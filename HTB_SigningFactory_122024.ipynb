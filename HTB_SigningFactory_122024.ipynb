{
  "nbformat": 4,
  "nbformat_minor": 0,
  "metadata": {
    "colab": {
      "provenance": []
    },
    "kernelspec": {
      "name": "python3",
      "display_name": "Python 3"
    },
    "language_info": {
      "name": "python"
    }
  },
  "cells": [
    {
      "cell_type": "code",
      "source": [
        "!pip install pycryptodome"
      ],
      "metadata": {
        "colab": {
          "base_uri": "https://localhost:8080/"
        },
        "id": "suY2r9PU0EsC",
        "outputId": "748821bb-4ed9-47f0-98e0-bbbf888d9420"
      },
      "execution_count": null,
      "outputs": [
        {
          "output_type": "stream",
          "name": "stdout",
          "text": [
            "Collecting pycryptodome\n",
            "  Downloading pycryptodome-3.21.0-cp36-abi3-manylinux_2_17_x86_64.manylinux2014_x86_64.whl.metadata (3.4 kB)\n",
            "Downloading pycryptodome-3.21.0-cp36-abi3-manylinux_2_17_x86_64.manylinux2014_x86_64.whl (2.3 MB)\n",
            "\u001b[?25l   \u001b[90m━━━━━━━━━━━━━━━━━━━━━━━━━━━━━━━━━━━━━━━━\u001b[0m \u001b[32m0.0/2.3 MB\u001b[0m \u001b[31m?\u001b[0m eta \u001b[36m-:--:--\u001b[0m\r\u001b[2K   \u001b[91m━━━━━\u001b[0m\u001b[91m╸\u001b[0m\u001b[90m━━━━━━━━━━━━━━━━━━━━━━━━━━━━━━━━━━\u001b[0m \u001b[32m0.3/2.3 MB\u001b[0m \u001b[31m9.1 MB/s\u001b[0m eta \u001b[36m0:00:01\u001b[0m\r\u001b[2K   \u001b[91m━━━━━━━━━━━━━━━━━━━━━━━━━━━━━━━━━━━━━━━\u001b[0m\u001b[91m╸\u001b[0m \u001b[32m2.3/2.3 MB\u001b[0m \u001b[31m33.9 MB/s\u001b[0m eta \u001b[36m0:00:01\u001b[0m\r\u001b[2K   \u001b[90m━━━━━━━━━━━━━━━━━━━━━━━━━━━━━━━━━━━━━━━━\u001b[0m \u001b[32m2.3/2.3 MB\u001b[0m \u001b[31m24.1 MB/s\u001b[0m eta \u001b[36m0:00:00\u001b[0m\n",
            "\u001b[?25hInstalling collected packages: pycryptodome\n",
            "Successfully installed pycryptodome-3.21.0\n"
          ]
        }
      ]
    },
    {
      "cell_type": "code",
      "source": [
        "!pip install sympy --upgrade"
      ],
      "metadata": {
        "id": "rcFnkm5x9zAr",
        "colab": {
          "base_uri": "https://localhost:8080/",
          "height": 356
        },
        "outputId": "0273a77d-13fc-40a1-9d10-f98ca80bf7a3"
      },
      "execution_count": null,
      "outputs": [
        {
          "output_type": "stream",
          "name": "stdout",
          "text": [
            "Requirement already satisfied: sympy in /usr/local/lib/python3.10/dist-packages (1.13.1)\n",
            "Collecting sympy\n",
            "  Downloading sympy-1.13.3-py3-none-any.whl.metadata (12 kB)\n",
            "Requirement already satisfied: mpmath<1.4,>=1.1.0 in /usr/local/lib/python3.10/dist-packages (from sympy) (1.3.0)\n",
            "Downloading sympy-1.13.3-py3-none-any.whl (6.2 MB)\n",
            "\u001b[2K   \u001b[90m━━━━━━━━━━━━━━━━━━━━━━━━━━━━━━━━━━━━━━━━\u001b[0m \u001b[32m6.2/6.2 MB\u001b[0m \u001b[31m50.2 MB/s\u001b[0m eta \u001b[36m0:00:00\u001b[0m\n",
            "\u001b[?25hInstalling collected packages: sympy\n",
            "  Attempting uninstall: sympy\n",
            "    Found existing installation: sympy 1.13.1\n",
            "    Uninstalling sympy-1.13.1:\n",
            "      Successfully uninstalled sympy-1.13.1\n",
            "\u001b[31mERROR: pip's dependency resolver does not currently take into account all the packages that are installed. This behaviour is the source of the following dependency conflicts.\n",
            "torch 2.5.1+cu121 requires sympy==1.13.1; python_version >= \"3.9\", but you have sympy 1.13.3 which is incompatible.\u001b[0m\u001b[31m\n",
            "\u001b[0mSuccessfully installed sympy-1.13.3\n"
          ]
        },
        {
          "output_type": "display_data",
          "data": {
            "application/vnd.colab-display-data+json": {
              "pip_warning": {
                "packages": [
                  "sympy"
                ]
              },
              "id": "eab0f73b904542c7a86a3d93cbf5df7d"
            }
          },
          "metadata": {}
        }
      ]
    },
    {
      "cell_type": "code",
      "source": [
        "# Compute the admin hash\n",
        "golden_ratio = 2654435761\n",
        "admin_username = int.from_bytes(b\"System_Administrator\", \"big\")\n",
        "hashed_message = ((admin_username % golden_ratio) * golden_ratio) >> 32\n",
        "print(f\"Hashed message for System_Administrator: {hashed_message}\")\n"
      ],
      "metadata": {
        "colab": {
          "base_uri": "https://localhost:8080/"
        },
        "id": "y8kbDX1WUsHO",
        "outputId": "fe256f21-1688-493c-ac32-2526d1a7bb40"
      },
      "execution_count": null,
      "outputs": [
        {
          "output_type": "stream",
          "name": "stdout",
          "text": [
            "Hashed message for System_Administrator: 1115247629\n"
          ]
        }
      ]
    },
    {
      "cell_type": "code",
      "source": [
        "#Code 4/12/2024\n",
        "golden_ratio = 2654435761\n",
        "hash_var = lambda key: (((key % golden_ratio) * golden_ratio) >> 32)\n",
        "\n",
        "# Admin username\n",
        "admin_username = int.from_bytes(b\"System_Administrator\", \"big\")\n",
        "admin_hash = hash_var(admin_username)\n",
        "\n",
        "print(f\"Admin hash (message to factorize): {admin_hash}\")\n"
      ],
      "metadata": {
        "colab": {
          "base_uri": "https://localhost:8080/"
        },
        "id": "rDiwbDfKMq7I",
        "outputId": "a36b9394-96b2-43a6-aa9f-f27e7c78bcfb"
      },
      "execution_count": null,
      "outputs": [
        {
          "output_type": "stream",
          "name": "stdout",
          "text": [
            "Admin hash (message to factorize): 1115247629\n"
          ]
        }
      ]
    },
    {
      "cell_type": "code",
      "source": [
        "from sympy import mod_inverse\n",
        "\n",
        "golden_ratio = 2654435761\n",
        "equations = [\n",
        "    (2575596209, 2496756657),\n",
        "    (2389420927, 1859391259),\n",
        "    (2205964921, 302913724),\n",
        "    (2555810731, 2448745652),\n",
        "    (2324583473, 822036049),\n",
        "]\n",
        "\n",
        "prime_factors = []\n",
        "for rnd, output in equations:\n",
        "    rnd_inv = mod_inverse(rnd, golden_ratio)\n",
        "    k = (output * rnd_inv) % golden_ratio\n",
        "    prime_factors.append(k)\n",
        "\n",
        "# Compute the hash (N hash)\n",
        "derived_hash = 1\n",
        "for factor in prime_factors:\n",
        "    derived_hash *= factor\n",
        "\n",
        "print(f\"Derived hash (N hash): {derived_hash}\")\n"
      ],
      "metadata": {
        "colab": {
          "base_uri": "https://localhost:8080/"
        },
        "id": "NU06lVR--ByS",
        "outputId": "1e58d207-a3ac-4732-8ea2-f2241352ef6c"
      },
      "execution_count": null,
      "outputs": [
        {
          "output_type": "stream",
          "name": "stdout",
          "text": [
            "Derived hash (N hash): 1361412366\n"
          ]
        }
      ]
    },
    {
      "cell_type": "code",
      "source": [
        "from sympy import mod_inverse, gcd\n",
        "from base64 import b64encode\n",
        "\n",
        "# Use the actual session N and e returned by the server\n",
        "e = 65537\n",
        "N = 25357422969441557750227465266812135780366341747599389726352613849881348017019309983966782920180304479589027383216989748338630340790194434347151159437025314742189440166817752015858912595869170054047524570844199786066137780115356847744866746587921660407887177802430028770435250572650119361242248641553635230537046696180800195079624471438432015023519554894044023270280121992806755974351508638535035151574671251369143110361414840875382299816135968255372868973240272529535818059134143397346157583183404373030014234447191945055361414003973449818563974855861322670692200859290468379332598919308819323081638117979694711907327\n",
        "\n",
        "# Compute hashed message for System_Administrator\n",
        "golden_ratio = 2654435761\n",
        "admin_username = int.from_bytes(b\"System_Administrator\", \"big\")\n",
        "hashed_message_admin = ((admin_username % golden_ratio) * golden_ratio) >> 32\n",
        "\n",
        "print(f\"Hashed message for System_Administrator: {hashed_message_admin}\")\n",
        "\n",
        "# Check coprimality\n",
        "if gcd(hashed_message_admin, N) == 1:\n",
        "    print(\"Hashed message and N are coprime.\")\n",
        "else:\n",
        "    print(\"Hashed message and N are NOT coprime.\")\n",
        "\n",
        "# Forge token if coprime\n",
        "try:\n",
        "    S = mod_inverse(hashed_message_admin, N)\n",
        "    print(f\"Forged token value (S): {S}\")\n",
        "\n",
        "    # Verify forged token\n",
        "    verified_value = pow(S, e, N)\n",
        "    print(f\"Verification result: {verified_value}\")\n",
        "    if verified_value == hashed_message_admin:\n",
        "        print(\"Verification successful.\")\n",
        "    else:\n",
        "        print(\"Verification failed.\")\n",
        "\n",
        "    # Encode the token\n",
        "    forged_token = b64encode(str(S).encode()).decode()\n",
        "    print(f\"Base64 Encoded Forged Token for System_Administrator: {forged_token}\")\n",
        "except ValueError:\n",
        "    print(\"Failed to compute modular inverse. Ensure hashed_message_admin and N are coprime.\")\n"
      ],
      "metadata": {
        "colab": {
          "base_uri": "https://localhost:8080/"
        },
        "id": "StOSMVO0-RDE",
        "outputId": "55b9dab4-de10-4e30-f05d-5b32de3d11dc"
      },
      "execution_count": null,
      "outputs": [
        {
          "output_type": "stream",
          "name": "stdout",
          "text": [
            "Hashed message for System_Administrator: 1115247629\n",
            "Hashed message and N are coprime.\n",
            "Forged token value (S): 24721529093710843869949371581056938255135091588610592076389417866235414821189133983223647600470573796182395977837723258536017907023739791817342801317489561496064211388970419524026805533338225044374884091432664686791209457990730262450673649572768475425292562649376625964409701585259948847314226469505917591226944987576329787610097281802124779239227594839619428390604885856409874874423302057048400114074580602705526886592576956938400573199157420998966295173189796775078540351184167157418797251128253861155197771896949297750353097034271833229333574611987006726378114599759087978770269814303060095843695040238259982050999\n",
            "Verification result: 6950815351427580136165005433805221529858384439920942121409468781348458345594845144275080405441975917361553171663914680683643011121623263144104231415542281804569380936787229627231472682333198985106038268004402474740648039733223853842396685524809765285182044078334250227161787352964936752902137007697332770827335839211379106148153466105282697684945775572186892188872249490010724966992161307788989131833546725729267499004543377514240951607879345685027859561203049480051840300091361699288011036637797217935372213958415787506902419700950188287913937723709122055414516253663846072079892068626328784263630535973137395755146\n",
            "Verification failed.\n",
            "Base64 Encoded Forged Token for System_Administrator: MjQ3MjE1MjkwOTM3MTA4NDM4Njk5NDkzNzE1ODEwNTY5MzgyNTUxMzUwOTE1ODg2MTA1OTIwNzYzODk0MTc4NjYyMzU0MTQ4MjExODkxMzM5ODMyMjM2NDc2MDA0NzA1NzM3OTYxODIzOTU5Nzc4Mzc3MjMyNTg1MzYwMTc5MDcwMjM3Mzk3OTE4MTczNDI4MDEzMTc0ODk1NjE0OTYwNjQyMTEzODg5NzA0MTk1MjQwMjY4MDU1MzMzMzgyMjUwNDQzNzQ4ODQwOTE0MzI2NjQ2ODY3OTEyMDk0NTc5OTA3MzAyNjI0NTA2NzM2NDk1NzI3Njg0NzU0MjUyOTI1NjI2NDkzNzY2MjU5NjQ0MDk3MDE1ODUyNTk5NDg4NDczMTQyMjY0Njk1MDU5MTc1OTEyMjY5NDQ5ODc1NzYzMjk3ODc2MTAwOTcyODE4MDIxMjQ3NzkyMzkyMjc1OTQ4Mzk2MTk0MjgzOTA2MDQ4ODU4NTY0MDk4NzQ4NzQ0MjMzMDIwNTcwNDg0MDAxMTQwNzQ1ODA2MDI3MDU1MjY4ODY1OTI1NzY5NTY5Mzg0MDA1NzMxOTkxNTc0MjA5OTg5NjYyOTUxNzMxODk3OTY3NzUwNzg1NDAzNTExODQxNjcxNTc0MTg3OTcyNTExMjgyNTM4NjExNTUxOTc3NzE4OTY5NDkyOTc3NTAzNTMwOTcwMzQyNzE4MzMyMjkzMzM1NzQ2MTE5ODcwMDY3MjYzNzgxMTQ1OTk3NTkwODc5Nzg3NzAyNjk4MTQzMDMwNjAwOTU4NDM2OTUwNDAyMzgyNTk5ODIwNTA5OTk=\n"
          ]
        }
      ]
    },
    {
      "cell_type": "code",
      "source": [
        "golden_ratio = 2654435761\n",
        "admin_username = int.from_bytes(b\"System_Administrator\", \"big\")\n",
        "hashed_message_admin = ((admin_username % golden_ratio) * golden_ratio) >> 32\n",
        "print(f\"Hashed message for System_Administrator: {hashed_message_admin}\")\n"
      ],
      "metadata": {
        "colab": {
          "base_uri": "https://localhost:8080/"
        },
        "id": "AEB23DLA_uI2",
        "outputId": "096f3a8a-b75d-4909-e1a8-4584b8243ca6"
      },
      "execution_count": null,
      "outputs": [
        {
          "output_type": "stream",
          "name": "stdout",
          "text": [
            "Hashed message for System_Administrator: 1115247629\n"
          ]
        }
      ]
    },
    {
      "cell_type": "code",
      "source": [
        "import hashlib\n",
        "\n",
        "message = \"System_Administrator\"\n",
        "hash_object = hashlib.sha256(message.encode())\n",
        "numeric_hash = int(hash_object.hexdigest(), 16) % (10**10)  # Limit to 10 digits\n",
        "print(numeric_hash)  # Could give a result like 1115247629\n"
      ],
      "metadata": {
        "colab": {
          "base_uri": "https://localhost:8080/"
        },
        "id": "DRhvV35YDqvf",
        "outputId": "7b06d870-2a3c-4aed-869d-4625acd8fddf"
      },
      "execution_count": null,
      "outputs": [
        {
          "output_type": "stream",
          "name": "stdout",
          "text": [
            "1913717077\n"
          ]
        }
      ]
    },
    {
      "cell_type": "code",
      "source": [
        "golden_ratio = 2654435761\n",
        "admin_username = int.from_bytes(b\"System_Administrator\", \"big\")\n",
        "hashed_message_admin = ((admin_username % golden_ratio) * golden_ratio) >> 32\n",
        "print(f\"Hashed message for System_Administrator: {hashed_message_admin}\")\n",
        "\n",
        "# Find a colliding username\n",
        "for i in range(1, 1000000000):\n",
        "    test_username = f\"Admin{i}\"\n",
        "    numeric_username = int.from_bytes(test_username.encode(), \"big\")\n",
        "    hashed_test = ((numeric_username % golden_ratio) * golden_ratio) >> 64\n",
        "    if hashed_test == hashed_message_admin:\n",
        "      print(f\"Found matching username: {test_username}\")\n",
        "      break\n"
      ],
      "metadata": {
        "colab": {
          "base_uri": "https://localhost:8080/"
        },
        "id": "1ICf6J-DAR7L",
        "outputId": "b440a078-767f-4742-a836-482ff239bc6a"
      },
      "execution_count": null,
      "outputs": [
        {
          "output_type": "stream",
          "name": "stdout",
          "text": [
            "Hashed message for System_Administrator: 1115247629\n"
          ]
        }
      ]
    },
    {
      "cell_type": "code",
      "source": [
        "#1st Brute force to find a colliding usename modulo  the goldern_ratio\n",
        "golden_ratio = 2654435761\n",
        "admin_mod = int.from_bytes(b\"System_Administrator\", \"big\") % golden_ratio\n",
        "\n",
        "for i in range(1, 1000000000):\n",
        "    test_username = f\"User{i}\"\n",
        "    numeric_username = int.from_bytes(test_username.encode(), \"big\")\n",
        "    if numeric_username % golden_ratio == admin_mod:\n",
        "        print(f\"Found colliding username: {test_username}\")\n",
        "        break\n"
      ],
      "metadata": {
        "id": "gGOsvBi1fiiz"
      },
      "execution_count": null,
      "outputs": []
    },
    {
      "cell_type": "code",
      "source": [
        "#2nd Brute Force on System Admin usename\n",
        "from sympy import mod_inverse\n",
        "from math import gcd\n",
        "from base64 import b64encode\n",
        "\n",
        "# Known values\n",
        "e = 65537\n",
        "hashed_message_admin = 1115247629  # Replace with computed value\n",
        "golden_ratio = 2654435761\n",
        "\n",
        "# Brute force N\n",
        "for candidate_N in range(10**300, 10**301): # Adjust range as needed\n",
        "    if gcd(hashed_message_admin, candidate_N) == 1:  # Ensure coprimality\n",
        "        try:\n",
        "            # Compute S (forged token)\n",
        "            S = mod_inverse(hashed_message_admin, candidate_N)\n",
        "\n",
        "            # Verify S^e mod candidate_N\n",
        "            verification = pow(S, e, candidate_N)\n",
        "            if verification == hashed_message_admin:\n",
        "                print(f\"Found valid modulus N: {candidate_N}\")\n",
        "                print(f\"Forged token value (S): {S}\")\n",
        "\n",
        "                # Encode the forged token\n",
        "                forged_token = b64encode(str(S).encode()).decode()\n",
        "                print(f\"Base64 Encoded Forged Token: {forged_token}\")\n",
        "                break\n",
        "        except ValueError:\n",
        "            # Modular inverse failed, skip candidate\n",
        "            continue\n"
      ],
      "metadata": {
        "id": "o7hAPDqewM5S"
      },
      "execution_count": null,
      "outputs": []
    },
    {
      "cell_type": "code",
      "source": [
        "from base64 import b64decode\n",
        "\n",
        "valid_token = \"MTAzNDU2NzIzMjg5ODk5OTc4OTIyNzIwNjUzMTk2ODU2NTkzODczMjk5NjYyODI0OTQ1OTI2MDI4NjgzNTk2MzI0NjM4OTQ0NjE4MDM0OTYxMDU5MDM4Njk4NzU3NTcwNjAzMTQ0Mjk2MTk2MTg0NDI3NTkwNzc5NjM4NzA3NTE4NzU4NDk0MjE1MzQzOTE5MTE0NDMzMjgzODg2NDc4MTA1MDMxOTMxNjczMzg2MDE0MTAyNDYzMjY4NzM3MTI3NDQwOTQxOTU0MzU1MDY3MzcxNzY3NzkwOTAwMzY2MjY2Nzc0OTEwNTE0NTE3MjI2NjE5MzE2MjQ4MTEyMDkwMDU3MjMxMTQ0Nzg0NDI0NjY5NDQ4MDc0MjA1Nzk0ODAwNDI1ODE0NDYwNzYxMDgxODQ3Mjc3MjExMTU3MTcxNTUxMTgyMzg0MTg0ODg1MTg0NTk2MjcwMTU5MTA2MjUxNjYyOTM1OTQ2NTI3MDczMDcyOTIxNDQ5NTI5MzQ1ODE3NTE2NDY5NTU4NDUxMjc1ODQ3MjUxNjI3OTkzNTIzMDA3MzgxMDY4NDIwMDU4ODY1MzEzNjg2ODA2MTIyNjcwNTk0NzcyNzQ4MTc3MzI4Mzk3NjY3ODI4NDYzMjAyNjQ5ODYyMDcwMjU3MTI5MjIxNzg0MTM1NTcwMzU3OTkwMDc4NjA0OTMzOTk5ODE2NDc0MTIyMzkwNTY0MTAwNTIxODQ3NDg5Mzg4ODk5MDMxMTMyMjczNDgyODQwMDYxMjExNjQ2NDcwMzE3NTMzMDY4Njk4ODk3NDgxMTUzNzUwNzcwNDU4MDEwNTI=\"\n",
        "decoded_value = b64decode(valid_token).decode()\n",
        "print(f\"Decoded valid token: {decoded_value}\")\n"
      ],
      "metadata": {
        "colab": {
          "base_uri": "https://localhost:8080/"
        },
        "id": "pk18aIcqIxsD",
        "outputId": "750a4209-e792-4dec-c05b-da45f9c269d4"
      },
      "execution_count": null,
      "outputs": [
        {
          "output_type": "stream",
          "name": "stdout",
          "text": [
            "Decoded valid token: 10345672328989997892272065319685659387329966282494592602868359632463894461803496105903869875757060314429619618442759077963870751875849421534391911443328388647810503193167338601410246326873712744094195435506737176779090036626677491051451722661931624811209005723114478442466944807420579480042581446076108184727721115717155118238418488518459627015910625166293594652707307292144952934581751646955845127584725162799352300738106842005886531368680612267059477274817732839766782846320264986207025712922178413557035799007860493399981647412239056410052184748938889903113227348284006121164647031753306869889748115375077045801052\n"
          ]
        }
      ]
    },
    {
      "cell_type": "code",
      "source": [
        "golden_ratio = 2654435761\n",
        "admin_username = int.from_bytes(b\"System_Administrator\", \"big\")\n",
        "hashed_message_admin = ((admin_username % golden_ratio) * golden_ratio) >> 32\n",
        "print(f\"Hashed message for System_Administrator: {hashed_message_admin}\")\n"
      ],
      "metadata": {
        "colab": {
          "base_uri": "https://localhost:8080/"
        },
        "id": "1682qZG3OXGA",
        "outputId": "a130c910-1f8d-44f6-ad37-e8b159cbce58"
      },
      "execution_count": null,
      "outputs": [
        {
          "output_type": "stream",
          "name": "stdout",
          "text": [
            "Hashed message for System_Administrator: 1115247629\n"
          ]
        }
      ]
    },
    {
      "cell_type": "code",
      "source": [
        "from base64 import b64encode\n",
        "\n",
        "modified_token = 10345672328989997892272065319685659387329966282494592602868359632463894461803496105903869875757060314429619618442759077963870751875849421534391911443328388647810503193167338601410246326873712744094195435506737176779090036626677491051451722661931624811209005723114478442466944807420579480042581446076108184727721115717155118238418488518459627015910625166293594652707307292144952934581751646955845127584725162799352300738106842005886531368680612267059477274817732839766782846320264986207025712922178413557035799007860493399981647412239056410052184748938889903113227348284006121164647031753306869889748115375077045801052 + 1  # Adjust as needed\n",
        "forged_token = b64encode(str(modified_token).encode()).decode()\n",
        "print(f\"Modified Base64 Token: {forged_token}\")\n"
      ],
      "metadata": {
        "colab": {
          "base_uri": "https://localhost:8080/"
        },
        "id": "cN6yP_lTOZ2d",
        "outputId": "52353e47-1f5f-4ced-d6d3-67d2c0c0be48"
      },
      "execution_count": null,
      "outputs": [
        {
          "output_type": "stream",
          "name": "stdout",
          "text": [
            "Modified Base64 Token: MTAzNDU2NzIzMjg5ODk5OTc4OTIyNzIwNjUzMTk2ODU2NTkzODczMjk5NjYyODI0OTQ1OTI2MDI4NjgzNTk2MzI0NjM4OTQ0NjE4MDM0OTYxMDU5MDM4Njk4NzU3NTcwNjAzMTQ0Mjk2MTk2MTg0NDI3NTkwNzc5NjM4NzA3NTE4NzU4NDk0MjE1MzQzOTE5MTE0NDMzMjgzODg2NDc4MTA1MDMxOTMxNjczMzg2MDE0MTAyNDYzMjY4NzM3MTI3NDQwOTQxOTU0MzU1MDY3MzcxNzY3NzkwOTAwMzY2MjY2Nzc0OTEwNTE0NTE3MjI2NjE5MzE2MjQ4MTEyMDkwMDU3MjMxMTQ0Nzg0NDI0NjY5NDQ4MDc0MjA1Nzk0ODAwNDI1ODE0NDYwNzYxMDgxODQ3Mjc3MjExMTU3MTcxNTUxMTgyMzg0MTg0ODg1MTg0NTk2MjcwMTU5MTA2MjUxNjYyOTM1OTQ2NTI3MDczMDcyOTIxNDQ5NTI5MzQ1ODE3NTE2NDY5NTU4NDUxMjc1ODQ3MjUxNjI3OTkzNTIzMDA3MzgxMDY4NDIwMDU4ODY1MzEzNjg2ODA2MTIyNjcwNTk0NzcyNzQ4MTc3MzI4Mzk3NjY3ODI4NDYzMjAyNjQ5ODYyMDcwMjU3MTI5MjIxNzg0MTM1NTcwMzU3OTkwMDc4NjA0OTMzOTk5ODE2NDc0MTIyMzkwNTY0MTAwNTIxODQ3NDg5Mzg4ODk5MDMxMTMyMjczNDgyODQwMDYxMjExNjQ2NDcwMzE3NTMzMDY4Njk4ODk3NDgxMTUzNzUwNzcwNDU4MDEwNTM=\n"
          ]
        }
      ]
    }
  ]
}